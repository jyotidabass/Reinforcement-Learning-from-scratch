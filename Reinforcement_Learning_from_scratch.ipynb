{
  "nbformat": 4,
  "nbformat_minor": 0,
  "metadata": {
    "colab": {
      "provenance": [],
      "authorship_tag": "ABX9TyNhflOjMbG4GGJgbl5fKcGf",
      "include_colab_link": true
    },
    "kernelspec": {
      "name": "python3",
      "display_name": "Python 3"
    },
    "language_info": {
      "name": "python"
    }
  },
  "cells": [
    {
      "cell_type": "markdown",
      "metadata": {
        "id": "view-in-github",
        "colab_type": "text"
      },
      "source": [
        "<a href=\"https://colab.research.google.com/github/jyotidabass/Reinforcement-Learning-from-scratch/blob/main/Reinforcement_Learning_from_scratch.ipynb\" target=\"_parent\"><img src=\"https://colab.research.google.com/assets/colab-badge.svg\" alt=\"Open In Colab\"/></a>"
      ]
    },
    {
      "cell_type": "code",
      "source": [
        "import numpy as np\n",
        "\n",
        "# Define the grid world\n",
        "ROWS, COLS = 4, 4\n",
        "grid = np.zeros((ROWS, COLS))\n",
        "\n",
        "# Define the actions (up, down, left, right) and their displacements\n",
        "ACTIONS = {'U': (-1, 0), 'D': (1, 0), 'L': (0, -1), 'R': (0, 1)}\n",
        "MAX_ACTION = len(ACTIONS)\n",
        "\n",
        "# Define the transition model and the reward function\n",
        "def transition(state, action):\n",
        "    new_state = (state[0] + action[0], state[1] + action[1])\n",
        "    if 0 <= new_state[0] < ROWS and 0 <= new_state[1] < COLS:\n",
        "        return new_state\n",
        "    else:\n",
        "        return state\n",
        "\n",
        "def reward_fn(state):\n",
        "    if state == (ROWS-1, COLS-1):\n",
        "        return 1\n",
        "    else:\n",
        "        return -0.01\n",
        "\n",
        "# Set the hyperparameters\n",
        "ALPHA = 0.1  # learning rate\n",
        "GAMMA = 0.9  # discount factor\n",
        "EPSILON = 0.1  # exploration rate\n",
        "\n",
        "# Set the initial Q-values to small random values\n",
        "Q = np.random.rand(ROWS, COLS, MAX_ACTION)\n",
        "\n",
        "# Run the Q-learning algorithm for a fixed number of episodes\n",
        "NUM_EPISODES = 10000\n",
        "\n",
        "for episode in range(NUM_EPISODES):\n",
        "    # Reset the state at the beginning of each episode\n",
        "    state = (0, 0)\n",
        "\n",
        "    done = False\n",
        "\n",
        "    while not done:\n",
        "        # Choose an action using an ε-greedy policy\n",
        "        if np.random.rand() < EPSILON:  # exploration\n",
        "            action = np.random.choice(list(ACTIONS.keys())) # Select a random action key\n",
        "            # Map the chosen action to its index for Q-value update\n",
        "            action_index = list(ACTIONS.keys()).index(action) # Define action_index here as well\n",
        "        else:  # exploitation\n",
        "            action_index = np.argmax(Q[state]) # Get the index of the action with the highest Q-value\n",
        "            action = list(ACTIONS.keys())[action_index] # Get the corresponding action key\n",
        "\n",
        "        # Take a step in the environment, update the Q-table, and check if the episode is done\n",
        "        next_state = transition(state, ACTIONS[action])\n",
        "        reward = reward_fn(next_state)\n",
        "        max_next_Q = np.max(Q[next_state])\n",
        "        Q[state][action_index] += ALPHA * (reward + GAMMA * max_next_Q - Q[state][action_index]) # Update Q-value for the selected action\n",
        "        state = next_state\n",
        "        done = (state == (ROWS-1, COLS-1))\n",
        "\n",
        "print(\"Final Q-table:\")\n",
        "print(Q)"
      ],
      "metadata": {
        "colab": {
          "base_uri": "https://localhost:8080/"
        },
        "id": "-QMwYYAaqAah",
        "outputId": "73e5ef4a-1301-4f4b-f03d-85af6b9990dc"
      },
      "execution_count": 3,
      "outputs": [
        {
          "output_type": "stream",
          "name": "stdout",
          "text": [
            "Final Q-table:\n",
            "[[[0.81769134 0.91965704 0.81769134 0.91965704]\n",
            "  [0.75731229 0.86089146 0.57570987 1.03295227]\n",
            "  [0.971803   1.15883586 0.86791497 0.79171929]\n",
            "  [0.17158449 0.52931121 1.01813399 0.44636646]]\n",
            "\n",
            " [[0.81769134 1.03295227 0.91965704 1.03295227]\n",
            "  [0.91965704 0.98472168 0.91965704 1.15883586]\n",
            "  [1.03295227 1.29870651 1.03295227 1.03295227]\n",
            "  [0.66347087 1.11488262 1.15883586 0.90819475]]\n",
            "\n",
            " [[0.83009008 1.15883586 0.91332261 0.86333079]\n",
            "  [0.90073689 0.89456577 1.03295227 1.22493588]\n",
            "  [1.15883586 1.45411834 0.95260333 1.45411834]\n",
            "  [1.03295227 1.62679816 1.29870651 1.45411834]]\n",
            "\n",
            " [[0.95896109 0.98554742 1.06253414 1.29870651]\n",
            "  [0.88989251 1.12379537 0.89561404 1.45411834]\n",
            "  [1.13362384 1.24422233 1.22865785 1.62679816]\n",
            "  [0.6964424  0.24584916 0.48057785 0.12080963]]]\n"
          ]
        }
      ]
    }
  ]
}